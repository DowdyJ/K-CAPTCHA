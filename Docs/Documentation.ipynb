{
 "cells": [
  {
   "cell_type": "code",
   "execution_count": 2,
   "id": "145ede01-8f51-48b0-815c-019aad67854d",
   "metadata": {},
   "outputs": [
    {
     "name": "stdout",
     "output_type": "stream",
     "text": [
      "Generating sample charts. This can take a while.\n"
     ]
    },
    {
     "ename": "TypeError",
     "evalue": "choice() missing 1 required positional argument: 'seq'",
     "output_type": "error",
     "traceback": [
      "\u001b[0;31m---------------------------------------------------------------------------\u001b[0m",
      "\u001b[0;31mTypeError\u001b[0m                                 Traceback (most recent call last)",
      "Cell \u001b[0;32mIn[2], line 15\u001b[0m\n\u001b[1;32m     13\u001b[0m files_to_show \u001b[38;5;241m=\u001b[39m []\n\u001b[1;32m     14\u001b[0m \u001b[38;5;28;01mfor\u001b[39;00m i \u001b[38;5;129;01min\u001b[39;00m \u001b[38;5;28mrange\u001b[39m(\u001b[38;5;241m4\u001b[39m):\n\u001b[0;32m---> 15\u001b[0m     file_to_add \u001b[38;5;241m=\u001b[39m os\u001b[38;5;241m.\u001b[39mpath\u001b[38;5;241m.\u001b[39mjoin(directory, \u001b[43mrandom\u001b[49m\u001b[38;5;241;43m.\u001b[39;49m\u001b[43mchoice\u001b[49m\u001b[43m(\u001b[49m\u001b[43m)\u001b[49m)\n\u001b[1;32m     16\u001b[0m     \u001b[38;5;28mprint\u001b[39m(\u001b[38;5;124mf\u001b[39m\u001b[38;5;124m\"\u001b[39m\u001b[38;5;124mAdding file \u001b[39m\u001b[38;5;132;01m{\u001b[39;00mfile_to_add\u001b[38;5;132;01m}\u001b[39;00m\u001b[38;5;124m\"\u001b[39m)\n\u001b[1;32m     17\u001b[0m     files_to_show\u001b[38;5;241m.\u001b[39mappend(file_to_add)\n",
      "\u001b[0;31mTypeError\u001b[0m: choice() missing 1 required positional argument: 'seq'"
     ]
    }
   ],
   "source": [
    "import pandas as pd\n",
    "import matplotlib.pyplot as plt\n",
    "import os\n",
    "import random\n",
    "import re\n",
    "%matplotlib inline \n",
    "\n",
    "print(\"Generating sample charts. This can take a while.\")\n",
    "\n",
    "directory = \"../Data/raw/\"\n",
    "all_files = [f for f in os.listdir(directory) if os.path.isfile(os.path.join(directory, f))]\n",
    "\n",
    "files_to_show = []\n",
    "for i in range(4):\n",
    "    file_to_add = os.path.join(directory, random.choice())\n",
    "    print(f\"Adding file {file_to_add}\")\n",
    "    files_to_show.append(file_to_add)\n",
    "\n",
    "for file_to_show in files_to_show:\n",
    "    print(f\"Loading sample file {file_to_show}\")\n",
    "    data_frame = pd.read_csv(file_to_show, delimiter='\\t')\n",
    "    data_frame[\"TIME_HELD\"] = data_frame[\"RELEASE_TIME\"] - data_frame[\"PRESS_TIME\"]\n",
    "    data_frame[\"KEY_DELAY\"] = data_frame[\"PRESS_TIME\"] - data_frame[\"PRESS_TIME\"].shift(-1)\n",
    "    \n",
    "    time_held_std_dev = data_frame[\"TIME_HELD\"].std()\n",
    "    time_held_mean = data_frame[\"TIME_HELD\"].mean()\n",
    "    \n",
    "    key_delay_std_dev = data_frame[\"KEY_DELAY\"].std()\n",
    "    key_delay_std_dev = data_frame[\"KEY_DELAY\"].mean()\n",
    "    \n",
    "    plt.hist(data_frame['TIME_HELD'], bins=20, edgecolor='black')\n",
    "    user_id = re.match(r\"(\\d+)_keystrokes\").group(1)\n",
    "    plt.title(f'Key held duration distribution for user {user_id}')\n",
    "    plt.xlabel('Time held (ms)')\n",
    "    plt.ylabel('Frequency')\n",
    "    plt.show()\n",
    "\n",
    "print(\"Finished\")\n"
   ]
  },
  {
   "cell_type": "code",
   "execution_count": null,
   "id": "97ff9d01-1b89-48ab-b5dd-cd1d106a89c1",
   "metadata": {},
   "outputs": [],
   "source": []
  }
 ],
 "metadata": {
  "kernelspec": {
   "display_name": "venv_env",
   "language": "python",
   "name": "venv_env"
  },
  "language_info": {
   "codemirror_mode": {
    "name": "ipython",
    "version": 3
   },
   "file_extension": ".py",
   "mimetype": "text/x-python",
   "name": "python",
   "nbconvert_exporter": "python",
   "pygments_lexer": "ipython3",
   "version": "3.8.10"
  }
 },
 "nbformat": 4,
 "nbformat_minor": 5
}
